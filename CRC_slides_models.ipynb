{
  "nbformat": 4,
  "nbformat_minor": 0,
  "metadata": {
    "colab": {
      "provenance": [],
      "authorship_tag": "ABX9TyPmQuFNWLaI5SeaA6CD42CE",
      "include_colab_link": true
    },
    "kernelspec": {
      "name": "python3",
      "display_name": "Python 3"
    },
    "language_info": {
      "name": "python"
    }
  },
  "cells": [
    {
      "cell_type": "markdown",
      "metadata": {
        "id": "view-in-github",
        "colab_type": "text"
      },
      "source": [
        "<a href=\"https://colab.research.google.com/github/Maagnitude/CRC_slides_models/blob/main/CRC_slides_models.ipynb\" target=\"_parent\"><img src=\"https://colab.research.google.com/assets/colab-badge.svg\" alt=\"Open In Colab\"/></a>"
      ]
    },
    {
      "cell_type": "markdown",
      "source": [],
      "metadata": {
        "id": "XtuzDN-a1Fsl"
      }
    },
    {
      "cell_type": "code",
      "source": [
        "import numpy as np\n",
        "import matplotlib.pyplot as plt\n",
        "\n",
        "import tensorflow as tf\n",
        "from tensorflow import keras\n",
        "from keras import layers\n",
        "import keras.datasets"
      ],
      "metadata": {
        "id": "NKYqBz6t2GIR"
      },
      "execution_count": 4,
      "outputs": []
    },
    {
      "cell_type": "code",
      "source": [],
      "metadata": {
        "id": "_ZJwiF732FrH"
      },
      "execution_count": null,
      "outputs": []
    },
    {
      "cell_type": "code",
      "execution_count": 1,
      "metadata": {
        "colab": {
          "base_uri": "https://localhost:8080/"
        },
        "id": "Et-3ePITcAUu",
        "outputId": "94617480-4799-4c33-bd47-e41ff785b596"
      },
      "outputs": [
        {
          "output_type": "stream",
          "name": "stdout",
          "text": [
            "Mounted at /content/drive\n"
          ]
        }
      ],
      "source": [
        "from google.colab import drive\n",
        "drive.mount('/content/drive')"
      ]
    },
    {
      "cell_type": "code",
      "source": [
        "!cp '/content/drive/MyDrive/Colab Notebooks/CRC_slides.tar.gz' .\n",
        "!tar -xvzf 'CRC_slides.tar.gz'\n",
        "data_dir = '/content/CRC_slides'"
      ],
      "metadata": {
        "id": "EltViBDify6M"
      },
      "execution_count": null,
      "outputs": []
    },
    {
      "cell_type": "code",
      "source": [
        "data_dir."
      ],
      "metadata": {
        "id": "wgYB2Ofu-wOJ"
      },
      "execution_count": null,
      "outputs": []
    },
    {
      "cell_type": "markdown",
      "source": [],
      "metadata": {
        "id": "hY2VWJuH1GLv"
      }
    },
    {
      "cell_type": "code",
      "source": [
        "def load_dataset(data_dir, train_pct=0.6, val_pct=0.2, test_pct=0.2, batch_size=64, img_size=(224, 224)):\n",
        "    \n",
        "  train_ds = keras.utils.image_dataset_from_directory(data_dir, labels='inferred', label_mode='int', class_name='rgb', \n",
        "      batch_size=batch_size, image_size=img_size, shuffle=True, seed=123, validation_split=val_pct, subset='training')\n",
        "  \n",
        "  val_ds = keras.utils.image_dataset_from_directory(data_dir, labels='inferred', label_mode='int', class_name='rgb', \n",
        "    batch_size=batch_size, image_size=img_size, shuffle=True, seed=123, validation_split=val_pct, subset='validation')\n",
        "  \n",
        "  test_ds = keras.utils.image_dataset_from_directory(data_dir, labels='inferred', label_mode='int', class_name='rgb', \n",
        "    batch_size=batch_size, image_size=img_size, shuffle=True, seed=123, validation_split=val_pct, subset='test')\n",
        "\n",
        "  devel_ds = train_ds + val_ds\n",
        "\n",
        "  classes = train_ds.class_names\n",
        "\n",
        "  return devel_ds, train_ds, val_ds, test_ds, classes"
      ],
      "metadata": {
        "id": "FzSuEqhYgN6D"
      },
      "execution_count": null,
      "outputs": []
    },
    {
      "cell_type": "code",
      "source": [
        "def cnn(num_classes):\n",
        "  "
      ],
      "metadata": {
        "id": "gzSWEo0_2b9m"
      },
      "execution_count": null,
      "outputs": []
    },
    {
      "cell_type": "code",
      "source": [],
      "metadata": {
        "id": "MEDNZvXh2bvq"
      },
      "execution_count": null,
      "outputs": []
    }
  ]
}