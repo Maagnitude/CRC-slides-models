{
  "nbformat": 4,
  "nbformat_minor": 0,
  "metadata": {
    "colab": {
      "provenance": [],
      "authorship_tag": "ABX9TyMKe2a7yQFMwtsHYf+XQ4hM",
      "include_colab_link": true
    },
    "kernelspec": {
      "name": "python3",
      "display_name": "Python 3"
    },
    "language_info": {
      "name": "python"
    }
  },
  "cells": [
    {
      "cell_type": "markdown",
      "metadata": {
        "id": "view-in-github",
        "colab_type": "text"
      },
      "source": [
        "<a href=\"https://colab.research.google.com/github/Maagnitude/CRC_slides_models/blob/main/CRC_slides_models.ipynb\" target=\"_parent\"><img src=\"https://colab.research.google.com/assets/colab-badge.svg\" alt=\"Open In Colab\"/></a>"
      ]
    },
    {
      "cell_type": "markdown",
      "source": [
        "# **2η Εργασία** στο μάθημα **Μηχανική Μάθηση και Εφαρμογές**\n",
        "\n",
        "# **Τμήμα Πληροφορικής και Τηλεματικής - Χαροκόπειο Πανεπιστήμιο**\n",
        "\n",
        "# **Καζάζης Γεώργιος - it214124**\n",
        "\n",
        "Στην παρούσα εργασία θα αναπτύξουμε **μοντέλα Συνελικτικών Νευρωνικών Δικτύων**, για να κατηγοριοποιήσουμε όσο πιο σωστά γίνεται τις 7180 εικόνες μικροσκοπίου, στις 9 κλάσεις που έχουμε.\n",
        "\n",
        "**Αρχίζοντας...**"
      ],
      "metadata": {
        "id": "XtuzDN-a1Fsl"
      }
    },
    {
      "cell_type": "markdown",
      "source": [
        "# **Βιβλιοθήκες**\n",
        "Κάνουμε import τα απαραίτητα **modules**. \n",
        "*   Την **pandas** και την **numpy** για την διαχείρηση των δεδομένων μας.\n",
        "\n",
        "*  Την **matplotlib.pyplot** και την **seaborn** για την οπτικοποίηση των δεδομένων μας. **Ιστογράμματα**, **boxplots** κλπ.\n",
        "\n",
        "*  Την **missingno** ώστε να οπτικοποιήσουμε το αν υπάρχουν ελλιπείς εγγραφές.\n",
        "\n",
        "*   Από την **sklearn** κάνουμε import:\n",
        "      *   Την **linear_model** για να εκπαιδεύσουμε το **Logistic Regression model**.\n",
        "      *   Την **neural_network** για να υλοποιήσουμε και να εκπαιδεύσουμε ΤΝΔ.\n",
        "      *  Την **StardardScaler** και την **train_test_split** για το **Preprocessing** κομμάτι. Συγκεκριμένα για την τυποποίηση των δεδομένων και για να χωρίσουμε τα δεδομένα μας σε **test data** και **train data**.\n",
        "      *  Την **metrics** για τις μετρικές που θα χρησιμοποιήσουμε, όπως η **confusion_matrix**.\n",
        "      *  Την **RandomForestClassifier** για να εκπαιδεύσουμε ένα Random Forest model.\n",
        "*  Το **tensorflow**, και από αυτό, τα **keras** και **layers** για την ανάπτυξη νευρωνικών δικτύων.\n",
        "\n",
        "*  Τέλος, κάνουμε import τα **warnings** και τα φιλτράρουμε, ώστε να μην εμφανίζονται.\n"
      ],
      "metadata": {
        "id": "HxNXBPQGRgr9"
      }
    },
    {
      "cell_type": "code",
      "source": [
        "import numpy as np\n",
        "import matplotlib.pyplot as plt\n",
        "\n",
        "import tensorflow as tf\n",
        "from tensorflow import keras\n",
        "from keras import layers\n",
        "import keras.datasets"
      ],
      "metadata": {
        "id": "NKYqBz6t2GIR"
      },
      "execution_count": 1,
      "outputs": []
    },
    {
      "cell_type": "markdown",
      "source": [
        "## **drive mount και μεταφόρτωση των εικόνων**"
      ],
      "metadata": {
        "id": "pqYJSf6oSSSg"
      }
    },
    {
      "cell_type": "code",
      "execution_count": 2,
      "metadata": {
        "colab": {
          "base_uri": "https://localhost:8080/"
        },
        "id": "Et-3ePITcAUu",
        "outputId": "89ea0494-ca06-4384-9c01-09eca8c258d0"
      },
      "outputs": [
        {
          "output_type": "stream",
          "name": "stdout",
          "text": [
            "Mounted at /content/drive\n"
          ]
        }
      ],
      "source": [
        "from google.colab import drive\n",
        "drive.mount('/content/drive')"
      ]
    },
    {
      "cell_type": "code",
      "source": [
        "!cp '/content/drive/MyDrive/Colab Notebooks/CRC_slides.tar.gz' .\n",
        "!tar -xvzf 'CRC_slides.tar.gz'\n",
        "data_dir = '/content/CRC_slides'"
      ],
      "metadata": {
        "id": "EltViBDify6M"
      },
      "execution_count": null,
      "outputs": []
    },
    {
      "cell_type": "markdown",
      "source": [
        "# **Υλοποίηση συνάρτησης για ...**"
      ],
      "metadata": {
        "id": "hY2VWJuH1GLv"
      }
    },
    {
      "cell_type": "code",
      "source": [
        "def load_dataset(data_dir, train_pct=0.6, val_pct=0.2, test_pct=0.2, batch_size=64, img_size=(224, 224)):\n",
        "    \n",
        "  all_ds = keras.utils.image_dataset_from_directory(data_dir, labels='inferred', label_mode='int', class_names=None, \n",
        "                              color_mode='rgb', batch_size=batch_size, image_size=img_size, shuffle=True, seed=123)\n",
        "\n",
        "  # Split the data into training, validation, and test sets\n",
        "  num_samples = len(all_ds)\n",
        "  train_size = int(train_pct * num_samples)\n",
        "  val_size = int(val_pct * num_samples)\n",
        "  test_size = int(test_pct * num_samples)\n",
        "  devel_size = num_samples - train_size - val_size - test_size\n",
        "  devel_ds = all_ds.take(devel_size)\n",
        "  train_ds = all_ds.skip(devel_size).take(train_size)\n",
        "  val_ds = all_ds.skip(devel_size + train_size).take(val_size)\n",
        "  test_ds = all_ds.skip(devel_size + train_size + val_size).take(test_size)\n",
        "\n",
        "  classes = all_ds.class_names\n",
        "\n",
        "  return devel_ds, train_ds, val_ds, test_ds, classes"
      ],
      "metadata": {
        "id": "FzSuEqhYgN6D"
      },
      "execution_count": 43,
      "outputs": []
    },
    {
      "cell_type": "code",
      "source": [
        "devel_ds, train_ds, val_ds, test_ds, classes = load_dataset(data_dir)"
      ],
      "metadata": {
        "id": "-cFTHhHHTGVo",
        "outputId": "da762cdc-b54e-4654-c79e-cd065fac7c92",
        "colab": {
          "base_uri": "https://localhost:8080/"
        }
      },
      "execution_count": 44,
      "outputs": [
        {
          "output_type": "stream",
          "name": "stdout",
          "text": [
            "Found 7180 files belonging to 9 classes.\n"
          ]
        }
      ]
    },
    {
      "cell_type": "code",
      "source": [],
      "metadata": {
        "id": "_NjznWTvX8wK",
        "outputId": "8c107d5d-a307-4c73-9dc4-1672e721e4ab",
        "colab": {
          "base_uri": "https://localhost:8080/"
        }
      },
      "execution_count": 42,
      "outputs": [
        {
          "output_type": "execute_result",
          "data": {
            "text/plain": [
              "['ADI', 'BACK', 'DEB', 'LYM', 'MUC', 'MUS', 'NORM', 'STR', 'TUM']"
            ]
          },
          "metadata": {},
          "execution_count": 42
        }
      ]
    },
    {
      "cell_type": "markdown",
      "source": [
        "## **Παρακάτω οπτικοποιούμε τον αριθμό των αρχείων κάθε κατηγορίας στο σύνολο ανάπτυξης**."
      ],
      "metadata": {
        "id": "P9YX8Y_oVoxZ"
      }
    },
    {
      "cell_type": "code",
      "source": [
        "y = np.concatenate([y for x, y in devel_ds])\n",
        "plt.hist(y, list(range(len(classes) + 1)))\n",
        "plt.show()"
      ],
      "metadata": {
        "id": "WX4DXOrNVRiU",
        "outputId": "859eef9e-3e34-44ff-9948-2ff320419d94",
        "colab": {
          "base_uri": "https://localhost:8080/",
          "height": 265
        }
      },
      "execution_count": 45,
      "outputs": [
        {
          "output_type": "display_data",
          "data": {
            "text/plain": [
              "<Figure size 432x288 with 1 Axes>"
            ],
            "image/png": "[encoded data removed]"
          },
          "metadata": {
            "needs_background": "light"
          }
        }
      ]
    },
    {
      "cell_type": "code",
      "source": [
        "y = np.concatenate([y for x, y in train_ds])\n",
        "plt.hist(y, list(range(len(classes) + 1)))\n",
        "plt.show()"
      ],
      "metadata": {
        "id": "nBno96VcaE91",
        "outputId": "2e8726af-8562-4888-9ba5-fb024b35f8db",
        "colab": {
          "base_uri": "https://localhost:8080/",
          "height": 265
        }
      },
      "execution_count": 46,
      "outputs": [
        {
          "output_type": "display_data",
          "data": {
            "text/plain": [
              "<Figure size 432x288 with 1 Axes>"
            ],
            "image/png": "[encoded data removed]"
          },
          "metadata": {
            "needs_background": "light"
          }
        }
      ]
    },
    {
      "cell_type": "code",
      "source": [
        "y = np.concatenate([y for x, y in test_ds])\n",
        "plt.hist(y, list(range(len(classes) + 1)))\n",
        "plt.show()"
      ],
      "metadata": {
        "id": "NIROk8cTaE4v",
        "outputId": "ff3b3c5a-a825-4d9a-dce9-cc454e522859",
        "colab": {
          "base_uri": "https://localhost:8080/",
          "height": 267
        }
      },
      "execution_count": 47,
      "outputs": [
        {
          "output_type": "display_data",
          "data": {
            "text/plain": [
              "<Figure size 432x288 with 1 Axes>"
            ],
            "image/png": "[encoded data removed]"
          },
          "metadata": {
            "needs_background": "light"
          }
        }
      ]
    },
    {
      "cell_type": "code",
      "source": [
        "y = np.concatenate([y for x, y in val_ds])\n",
        "plt.hist(y, list(range(len(classes) + 1)))\n",
        "plt.show()"
      ],
      "metadata": {
        "id": "EaYIwsZmaIIu",
        "outputId": "27f543c8-028b-45a4-afe3-e6e2df63393e",
        "colab": {
          "base_uri": "https://localhost:8080/",
          "height": 265
        }
      },
      "execution_count": 48,
      "outputs": [
        {
          "output_type": "display_data",
          "data": {
            "text/plain": [
              "<Figure size 432x288 with 1 Axes>"
            ],
            "image/png": "[encoded data removed]"
          },
          "metadata": {
            "needs_background": "light"
          }
        }
      ]
    },
    {
      "cell_type": "code",
      "source": [
        "def cnn(num_classes):\n",
        "  "
      ],
      "metadata": {
        "id": "gzSWEo0_2b9m"
      },
      "execution_count": null,
      "outputs": []
    },
    {
      "cell_type": "code",
      "source": [],
      "metadata": {
        "id": "MEDNZvXh2bvq"
      },
      "execution_count": null,
      "outputs": []
    }
  ]
}